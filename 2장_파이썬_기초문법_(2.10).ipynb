{
 "cells": [
  {
   "cell_type": "markdown",
   "id": "99924ffd",
   "metadata": {},
   "source": [
    "# 리스트와 반복문을 사용하여 계산하기"
   ]
  },
  {
   "cell_type": "code",
   "execution_count": 1,
   "id": "892454fb",
   "metadata": {},
   "outputs": [
    {
     "data": {
      "text/plain": [
       "[90, 85, 95, 80, 90, 100, 85, 75, 85, 80]"
      ]
     },
     "execution_count": 1,
     "metadata": {},
     "output_type": "execute_result"
    }
   ],
   "source": [
    "a = [90, 85, 95, 80, 90, 100, 85, 75, 85, 80]\n",
    "a"
   ]
  },
  {
   "cell_type": "code",
   "execution_count": 2,
   "id": "0cea2031",
   "metadata": {},
   "outputs": [
    {
     "data": {
      "text/plain": [
       "86.5"
      ]
     },
     "execution_count": 2,
     "metadata": {},
     "output_type": "execute_result"
    }
   ],
   "source": [
    "sum = 0\n",
    "for i in range(len(a)):\n",
    "    sum = sum + a[i]\n",
    "average = sum / len(a)\n",
    "average"
   ]
  },
  {
   "cell_type": "code",
   "execution_count": 3,
   "id": "d30f473e",
   "metadata": {},
   "outputs": [],
   "source": [
    "# enumerate 함수: 리스트의 원소를 반복하면서 동시에 인덱스 값 생성"
   ]
  },
  {
   "cell_type": "code",
   "execution_count": 4,
   "id": "6d720bb0",
   "metadata": {},
   "outputs": [
    {
     "name": "stdout",
     "output_type": "stream",
     "text": [
      "i = 0, e = a\n",
      "i = 1, e = b\n",
      "i = 2, e = c\n"
     ]
    }
   ],
   "source": [
    "for i, e in enumerate([\"a\", \"b\", \"c\"]):\n",
    "    print(\"i = %d, e = %s\" % (i, e))"
   ]
  },
  {
   "cell_type": "code",
   "execution_count": 17,
   "id": "beef5a99",
   "metadata": {},
   "outputs": [
    {
     "data": {
      "text/plain": [
       "3.3636363636363638"
      ]
     },
     "execution_count": 17,
     "metadata": {},
     "output_type": "execute_result"
    }
   ],
   "source": [
    "del sum\n",
    "x = [4, 3, 2, 3, 4]\n",
    "w = [3, 3, 1, 2, 2]\n",
    "wa = [0, 0, 0, 0, 0]\n",
    "\n",
    "for i, (xi, wi) in enumerate(zip(x, w)):\n",
    "    wa[i] = xi * wi\n",
    "sum(wa)/sum(w)"
   ]
  },
  {
   "cell_type": "code",
   "execution_count": 29,
   "id": "77604843",
   "metadata": {},
   "outputs": [
    {
     "data": {
      "text/plain": [
       "1.6666666666666667"
      ]
     },
     "execution_count": 29,
     "metadata": {},
     "output_type": "execute_result"
    }
   ],
   "source": [
    "x = [6, 5, 4, 7, 3, 5]\n",
    "average = sum(x)/len(x)\n",
    "\n",
    "var = []\n",
    "for i in x:\n",
    "    var.append((i-average) ** 2)\n",
    "sum(var)/len(x)"
   ]
  },
  {
   "cell_type": "code",
   "execution_count": 30,
   "id": "faddb25f",
   "metadata": {},
   "outputs": [],
   "source": [
    "# zip 함수는 두 개의 리스트를 합쳐 각 리스트 우너소 쌍을 원소로 갖는 하나의 리스트를 만듦."
   ]
  },
  {
   "cell_type": "code",
   "execution_count": 32,
   "id": "b6a76007",
   "metadata": {},
   "outputs": [
    {
     "data": {
      "text/plain": [
       "[(90, 95),\n",
       " (85, 90),\n",
       " (95, 90),\n",
       " (80, 90),\n",
       " (90, 95),\n",
       " (100, 100),\n",
       " (85, 90),\n",
       " (75, 80),\n",
       " (85, 95),\n",
       " (80, 90)]"
      ]
     },
     "execution_count": 32,
     "metadata": {},
     "output_type": "execute_result"
    }
   ],
   "source": [
    "a1 = [90, 85, 95, 80, 90, 100, 85, 75, 85, 80]\n",
    "a2 = [95, 90, 90, 90, 95, 100, 90, 80, 95, 90]\n",
    "\n",
    "a12 = list(zip(a1, a2))\n",
    "a12"
   ]
  },
  {
   "cell_type": "code",
   "execution_count": 33,
   "id": "9094a234",
   "metadata": {},
   "outputs": [],
   "source": [
    "x = [\n",
    "  [\"길동\", 90],\n",
    "  [\"철수\", 80],\n",
    "  [\"영수\", 70],\n",
    "  [\"방자\", 60],\n",
    "]"
   ]
  },
  {
   "cell_type": "code",
   "execution_count": 34,
   "id": "4ca3c670",
   "metadata": {},
   "outputs": [
    {
     "data": {
      "text/plain": [
       "('길동', '철수', '영수', '방자')"
      ]
     },
     "execution_count": 34,
     "metadata": {},
     "output_type": "execute_result"
    }
   ],
   "source": [
    "name = list(zip(*x))[0]\n",
    "name"
   ]
  },
  {
   "cell_type": "code",
   "execution_count": null,
   "id": "9a2c66c5",
   "metadata": {},
   "outputs": [],
   "source": []
  }
 ],
 "metadata": {
  "kernelspec": {
   "display_name": "Python 3 (ipykernel)",
   "language": "python",
   "name": "python3"
  },
  "language_info": {
   "codemirror_mode": {
    "name": "ipython",
    "version": 3
   },
   "file_extension": ".py",
   "mimetype": "text/x-python",
   "name": "python",
   "nbconvert_exporter": "python",
   "pygments_lexer": "ipython3",
   "version": "3.9.2"
  }
 },
 "nbformat": 4,
 "nbformat_minor": 5
}
