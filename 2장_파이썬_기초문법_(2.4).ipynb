{
 "cells": [
  {
   "cell_type": "markdown",
   "id": "bd9f7bfb",
   "metadata": {},
   "source": [
    "# 파이썬의 문자열 형식화"
   ]
  },
  {
   "cell_type": "code",
   "execution_count": 1,
   "id": "5648f2c2",
   "metadata": {},
   "outputs": [],
   "source": [
    "# \"문자열\" % 값"
   ]
  },
  {
   "cell_type": "code",
   "execution_count": 2,
   "id": "0ef6eca0",
   "metadata": {},
   "outputs": [
    {
     "data": {
      "text/plain": [
       "'내 이름은 김정우입니다.'"
      ]
     },
     "execution_count": 2,
     "metadata": {},
     "output_type": "execute_result"
    }
   ],
   "source": [
    "\"내 이름은 %s입니다.\" % \"김정우\""
   ]
  },
  {
   "cell_type": "code",
   "execution_count": 3,
   "id": "64700053",
   "metadata": {},
   "outputs": [
    {
     "data": {
      "text/plain": [
       "'나는 25살 입니다.'"
      ]
     },
     "execution_count": 3,
     "metadata": {},
     "output_type": "execute_result"
    }
   ],
   "source": [
    "\"나는 %d살 입니다.\" % 25"
   ]
  },
  {
   "cell_type": "code",
   "execution_count": 4,
   "id": "8a1c0436",
   "metadata": {},
   "outputs": [
    {
     "data": {
      "text/plain": [
       "'원주율의 값은 3.141592입니다.'"
      ]
     },
     "execution_count": 4,
     "metadata": {},
     "output_type": "execute_result"
    }
   ],
   "source": [
    "\"원주율의 값은 %f입니다.\" % 3.141592"
   ]
  },
  {
   "cell_type": "code",
   "execution_count": 5,
   "id": "35d99d36",
   "metadata": {},
   "outputs": [
    {
     "data": {
      "text/plain": [
       "'3 곱하기 3은 9이다.'"
      ]
     },
     "execution_count": 5,
     "metadata": {},
     "output_type": "execute_result"
    }
   ],
   "source": [
    "\"%d 곱하기 %d은 %d이다.\" % (3, 3, 9)"
   ]
  },
  {
   "cell_type": "code",
   "execution_count": 6,
   "id": "8141dde2",
   "metadata": {},
   "outputs": [
    {
     "data": {
      "text/plain": [
       "'정우의 데싸 과목 점수는 100점이다.'"
      ]
     },
     "execution_count": 6,
     "metadata": {},
     "output_type": "execute_result"
    }
   ],
   "source": [
    "\"%s의 %s 과목 점수는 %d점이다.\" % (\"정우\", \"데싸\", 100)"
   ]
  },
  {
   "cell_type": "code",
   "execution_count": 14,
   "id": "038561e5",
   "metadata": {},
   "outputs": [
    {
     "data": {
      "text/plain": [
       "'Tom is 13 years old'"
      ]
     },
     "execution_count": 14,
     "metadata": {},
     "output_type": "execute_result"
    }
   ],
   "source": [
    "name = \"Tom\"\n",
    "age = 13\n",
    "\"%s is %d years old\" % (name, age)"
   ]
  },
  {
   "cell_type": "code",
   "execution_count": 22,
   "id": "eb07a82a",
   "metadata": {},
   "outputs": [
    {
     "data": {
      "text/plain": [
       "'10 / 3 = 3.333'"
      ]
     },
     "execution_count": 22,
     "metadata": {},
     "output_type": "execute_result"
    }
   ],
   "source": [
    "a = 10\n",
    "b = 3\n",
    "c = a/b\n",
    "\"%d / %d = %.3f\" % (a, b, c)"
   ]
  },
  {
   "cell_type": "code",
   "execution_count": 23,
   "id": "54bcb6b3",
   "metadata": {},
   "outputs": [
    {
     "data": {
      "text/plain": [
       "'[                   *]'"
      ]
     },
     "execution_count": 23,
     "metadata": {},
     "output_type": "execute_result"
    }
   ],
   "source": [
    "\"[%20s]\" % \"*\""
   ]
  },
  {
   "cell_type": "code",
   "execution_count": 24,
   "id": "48379db9",
   "metadata": {},
   "outputs": [
    {
     "data": {
      "text/plain": [
       "'[*                   ]'"
      ]
     },
     "execution_count": 24,
     "metadata": {},
     "output_type": "execute_result"
    }
   ],
   "source": [
    "\"[%-20s]\" % \"*\""
   ]
  },
  {
   "cell_type": "code",
   "execution_count": 25,
   "id": "4782ff77",
   "metadata": {},
   "outputs": [
    {
     "data": {
      "text/plain": [
       "'[                 123]'"
      ]
     },
     "execution_count": 25,
     "metadata": {},
     "output_type": "execute_result"
    }
   ],
   "source": [
    "\"[%20s]\" % \"123\""
   ]
  },
  {
   "cell_type": "code",
   "execution_count": 27,
   "id": "8bed4c61",
   "metadata": {},
   "outputs": [
    {
     "data": {
      "text/plain": [
       "'[                 123]'"
      ]
     },
     "execution_count": 27,
     "metadata": {},
     "output_type": "execute_result"
    }
   ],
   "source": [
    "\"[%20d]\" % 123"
   ]
  },
  {
   "cell_type": "code",
   "execution_count": 28,
   "id": "0c96e51c",
   "metadata": {},
   "outputs": [
    {
     "data": {
      "text/plain": [
       "'[123                 ]'"
      ]
     },
     "execution_count": 28,
     "metadata": {},
     "output_type": "execute_result"
    }
   ],
   "source": [
    "\"[%-20d]\" % 123"
   ]
  },
  {
   "cell_type": "code",
   "execution_count": 30,
   "id": "13052de9",
   "metadata": {},
   "outputs": [
    {
     "data": {
      "text/plain": [
       "'0.33333'"
      ]
     },
     "execution_count": 30,
     "metadata": {},
     "output_type": "execute_result"
    }
   ],
   "source": [
    "\"%.5f\" % float(1 / 3.0)"
   ]
  },
  {
   "cell_type": "code",
   "execution_count": 33,
   "id": "0bb57fa8",
   "metadata": {},
   "outputs": [
    {
     "name": "stdout",
     "output_type": "stream",
     "text": [
      "\n",
      "       3\n",
      "x     12\n",
      "--------\n",
      "      36\n"
     ]
    }
   ],
   "source": [
    "a = 3\n",
    "b = 12\n",
    "multiplier = \"\"\"\n",
    "       %d\n",
    "x     %d\n",
    "--------\n",
    "      %d\"\"\"%(a, b, a*b)\n",
    "\n",
    "print(multiplier)"
   ]
  },
  {
   "cell_type": "code",
   "execution_count": 47,
   "id": "c24ed75f",
   "metadata": {},
   "outputs": [
    {
     "name": "stdout",
     "output_type": "stream",
     "text": [
      "\n",
      "format(    123456,\",\")\n",
      "+     7890\n",
      "----------\n",
      "    131346\n",
      "\n"
     ]
    }
   ],
   "source": [
    "a = 123456\n",
    "b = 7890\n",
    "plus = \"\"\"\n",
    "%10d\n",
    "+%9d\n",
    "----------\n",
    "%10d\n",
    "\"\"\"%(a,b,a+b)\n",
    "print(plus)"
   ]
  },
  {
   "cell_type": "code",
   "execution_count": 48,
   "id": "0ebb7b2d",
   "metadata": {},
   "outputs": [
    {
     "data": {
      "text/plain": [
       "'영어점수: 100점, 수학점수: 90점'"
      ]
     },
     "execution_count": 48,
     "metadata": {},
     "output_type": "execute_result"
    }
   ],
   "source": [
    "\"{}점수: {}점, {}점수: {}점\".format(\"영어\", 100, \"수학\", 90)"
   ]
  },
  {
   "cell_type": "code",
   "execution_count": 49,
   "id": "bf33a1cd",
   "metadata": {},
   "outputs": [
    {
     "data": {
      "text/plain": [
       "'영어점수: 100점, 수학점수: 90점'"
      ]
     },
     "execution_count": 49,
     "metadata": {},
     "output_type": "execute_result"
    }
   ],
   "source": [
    "\"{a}점수: {x}점, {b}점수: {y}점\".format(a=\"영어\", b=\"수학\", x=100, y=90)"
   ]
  },
  {
   "cell_type": "code",
   "execution_count": 50,
   "id": "49558402",
   "metadata": {},
   "outputs": [
    {
     "data": {
      "text/plain": [
       "'[*                   ]'"
      ]
     },
     "execution_count": 50,
     "metadata": {},
     "output_type": "execute_result"
    }
   ],
   "source": [
    "\"[{:<20}]\".format(\"*\")"
   ]
  },
  {
   "cell_type": "code",
   "execution_count": 51,
   "id": "a39db1cf",
   "metadata": {},
   "outputs": [
    {
     "data": {
      "text/plain": [
       "'[                   *]'"
      ]
     },
     "execution_count": 51,
     "metadata": {},
     "output_type": "execute_result"
    }
   ],
   "source": [
    "\"[{:>20}]\".format(\"*\")"
   ]
  },
  {
   "cell_type": "code",
   "execution_count": 52,
   "id": "9baf691f",
   "metadata": {},
   "outputs": [
    {
     "data": {
      "text/plain": [
       "'[         *          ]'"
      ]
     },
     "execution_count": 52,
     "metadata": {},
     "output_type": "execute_result"
    }
   ],
   "source": [
    "\"[{:^20}]\".format(\"*\")"
   ]
  },
  {
   "cell_type": "code",
   "execution_count": 53,
   "id": "0dc56553",
   "metadata": {},
   "outputs": [
    {
     "data": {
      "text/plain": [
       "'[             0.33333]'"
      ]
     },
     "execution_count": 53,
     "metadata": {},
     "output_type": "execute_result"
    }
   ],
   "source": [
    "\"[{:20.5f}]\".format(1 / 3)"
   ]
  },
  {
   "cell_type": "code",
   "execution_count": 54,
   "id": "9c87d493",
   "metadata": {},
   "outputs": [
    {
     "data": {
      "text/plain": [
       "'[       1,234,567,890]'"
      ]
     },
     "execution_count": 54,
     "metadata": {},
     "output_type": "execute_result"
    }
   ],
   "source": [
    "\"[{:20,}]\".format(1234567890)"
   ]
  },
  {
   "cell_type": "code",
   "execution_count": 58,
   "id": "24b68e30",
   "metadata": {},
   "outputs": [],
   "source": [
    "number = 1234567"
   ]
  },
  {
   "cell_type": "code",
   "execution_count": 60,
   "id": "fc4cfa39",
   "metadata": {},
   "outputs": [
    {
     "data": {
      "text/plain": [
       "'1234567             '"
      ]
     },
     "execution_count": 60,
     "metadata": {},
     "output_type": "execute_result"
    }
   ],
   "source": [
    "f\"{number:<20}\""
   ]
  },
  {
   "cell_type": "code",
   "execution_count": 61,
   "id": "11e14518",
   "metadata": {},
   "outputs": [
    {
     "data": {
      "text/plain": [
       "'             1234567'"
      ]
     },
     "execution_count": 61,
     "metadata": {},
     "output_type": "execute_result"
    }
   ],
   "source": [
    "f\"{number:>20}\""
   ]
  },
  {
   "cell_type": "code",
   "execution_count": 62,
   "id": "78b022fc",
   "metadata": {},
   "outputs": [
    {
     "data": {
      "text/plain": [
       "'      1234567       '"
      ]
     },
     "execution_count": 62,
     "metadata": {},
     "output_type": "execute_result"
    }
   ],
   "source": [
    " f\"{number:^20}\""
   ]
  },
  {
   "cell_type": "code",
   "execution_count": 63,
   "id": "35d20429",
   "metadata": {},
   "outputs": [
    {
     "data": {
      "text/plain": [
       "'1234567-------------'"
      ]
     },
     "execution_count": 63,
     "metadata": {},
     "output_type": "execute_result"
    }
   ],
   "source": [
    "f\"{number:-<20}\""
   ]
  },
  {
   "cell_type": "code",
   "execution_count": 65,
   "id": "0e9a5378",
   "metadata": {},
   "outputs": [
    {
     "data": {
      "text/plain": [
       "'     1,234,567      '"
      ]
     },
     "execution_count": 65,
     "metadata": {},
     "output_type": "execute_result"
    }
   ],
   "source": [
    "f\"{number:^20,}\""
   ]
  },
  {
   "cell_type": "code",
   "execution_count": null,
   "id": "43b3fa5a",
   "metadata": {},
   "outputs": [],
   "source": []
  }
 ],
 "metadata": {
  "kernelspec": {
   "display_name": "Python 3 (ipykernel)",
   "language": "python",
   "name": "python3"
  },
  "language_info": {
   "codemirror_mode": {
    "name": "ipython",
    "version": 3
   },
   "file_extension": ".py",
   "mimetype": "text/x-python",
   "name": "python",
   "nbconvert_exporter": "python",
   "pygments_lexer": "ipython3",
   "version": "3.9.2"
  }
 },
 "nbformat": 4,
 "nbformat_minor": 5
}
