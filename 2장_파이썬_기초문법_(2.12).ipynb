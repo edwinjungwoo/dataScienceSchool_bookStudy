{
 "cells": [
  {
   "cell_type": "markdown",
   "id": "3210073d",
   "metadata": {},
   "source": [
    "# 파이썬 객체지향 프로그래밍"
   ]
  },
  {
   "cell_type": "code",
   "execution_count": 1,
   "id": "7222b372",
   "metadata": {},
   "outputs": [
    {
     "name": "stdout",
     "output_type": "stream",
     "text": [
      "200\n"
     ]
    }
   ],
   "source": [
    "h = 10\n",
    "v = 20\n",
    "\n",
    "def area(h,v):\n",
    "    return h * v\n",
    "a = area(10, 20)\n",
    "print(a)"
   ]
  },
  {
   "cell_type": "code",
   "execution_count": 2,
   "id": "9d023bb8",
   "metadata": {},
   "outputs": [],
   "source": [
    "class Rectangle(object):\n",
    "    \n",
    "    def __init__(self, h, v):\n",
    "        self.h = h\n",
    "        self.v = v\n",
    "    \n",
    "    def area(self):\n",
    "        return self.h * self.v"
   ]
  },
  {
   "cell_type": "code",
   "execution_count": 3,
   "id": "4147a246",
   "metadata": {},
   "outputs": [
    {
     "data": {
      "text/plain": [
       "200"
      ]
     },
     "execution_count": 3,
     "metadata": {},
     "output_type": "execute_result"
    }
   ],
   "source": [
    "r = Rectangle(10, 20)\n",
    "a = r.area()\n",
    "a"
   ]
  },
  {
   "cell_type": "code",
   "execution_count": 4,
   "id": "a35d6c3a",
   "metadata": {},
   "outputs": [
    {
     "data": {
      "text/plain": [
       "10"
      ]
     },
     "execution_count": 4,
     "metadata": {},
     "output_type": "execute_result"
    }
   ],
   "source": [
    "r.h"
   ]
  },
  {
   "cell_type": "code",
   "execution_count": 5,
   "id": "71a2a570",
   "metadata": {},
   "outputs": [
    {
     "data": {
      "text/plain": [
       "20"
      ]
     },
     "execution_count": 5,
     "metadata": {},
     "output_type": "execute_result"
    }
   ],
   "source": [
    "r.v"
   ]
  },
  {
   "cell_type": "code",
   "execution_count": 6,
   "id": "25693932",
   "metadata": {},
   "outputs": [],
   "source": [
    "a = Rectangle(1, 1)   # 가로 1, 세로 1인 사각형\n",
    "b = Rectangle(2, 1)   # 가로 2, 세로 1인 사각형\n",
    "c = Rectangle(4, 2)   # 가로 4, 세로 2인 사각형\n",
    "d = Rectangle(6, 3)   # 가로 6, 세로 3인 사각형\n",
    "e = Rectangle(8, 5)   # 가로 8, 세로 5인 사각형"
   ]
  },
  {
   "cell_type": "code",
   "execution_count": 7,
   "id": "c18d69c6",
   "metadata": {},
   "outputs": [
    {
     "name": "stdout",
     "output_type": "stream",
     "text": [
      "1\n",
      "2\n",
      "8\n",
      "18\n",
      "40\n"
     ]
    }
   ],
   "source": [
    "print(a.area())\n",
    "print(b.area())\n",
    "print(c.area())\n",
    "print(d.area())\n",
    "print(e.area())"
   ]
  },
  {
   "cell_type": "markdown",
   "id": "4870473d",
   "metadata": {},
   "source": [
    "class 클래스이름(object):\n",
    "    \n",
    "    def __init__(self, 속성값1, 속성값2, 속성값3):\n",
    "        self.속성이름1 = 속성값1\n",
    "        self.속성이름2 = 속성값2\n",
    "        self.속성이름3 = 속성값3"
   ]
  },
  {
   "cell_type": "code",
   "execution_count": 10,
   "id": "fc68f2ab",
   "metadata": {},
   "outputs": [
    {
     "data": {
      "text/plain": [
       "4.0"
      ]
     },
     "execution_count": 10,
     "metadata": {},
     "output_type": "execute_result"
    }
   ],
   "source": [
    "class Triangle(object):\n",
    "    \n",
    "    def __init__(self, b, h):\n",
    "        self.b = b\n",
    "        self.h = h\n",
    "    \n",
    "    def area(self):\n",
    "        return (self.b * self.h) / 2\n",
    "\n",
    "t = Triangle(4, 2)\n",
    "a = t.area()\n",
    "a"
   ]
  },
  {
   "cell_type": "code",
   "execution_count": 11,
   "id": "02a263c0",
   "metadata": {},
   "outputs": [
    {
     "name": "stdout",
     "output_type": "stream",
     "text": [
      "30\n",
      "62\n"
     ]
    }
   ],
   "source": [
    "class squarePillar(object):\n",
    "    \n",
    "    def __init__(self, a, b, h):\n",
    "        self.a = a\n",
    "        self.b = b\n",
    "        self.h = h\n",
    "    \n",
    "    def volume(self):\n",
    "        return self.a * self.b * self.h\n",
    "    \n",
    "    def surface(self):\n",
    "        return ((self.a * self.b) + (self.a * self.h) + (self.b * self.h)) * 2\n",
    "\n",
    "sq = squarePillar(2, 3, 5)\n",
    "v = sq.volume()\n",
    "s = sq.surface()\n",
    "print(v)\n",
    "print(s)"
   ]
  },
  {
   "cell_type": "code",
   "execution_count": 12,
   "id": "c0587cef",
   "metadata": {},
   "outputs": [],
   "source": [
    "class Character(object):\n",
    "\n",
    "    def __init__(self):\n",
    "        self.life = 1000\n",
    "\n",
    "    def attacked(self):\n",
    "        self.life -= 10\n",
    "        print(\"공격받음! 생명력 =\", self.life)"
   ]
  },
  {
   "cell_type": "markdown",
   "id": "0b40dd25",
   "metadata": {},
   "source": [
    "class 자식클래스이름(부모클래스이름):\n",
    "\n",
    "    def __init__(self, 속성값1, 속성값2):\n",
    "        super(자식클래스이름, self).__init__()\n",
    "        자식 클래스의 초기화 코드"
   ]
  },
  {
   "cell_type": "code",
   "execution_count": 19,
   "id": "6f9f27d8",
   "metadata": {},
   "outputs": [],
   "source": [
    "class Warrior(Character):\n",
    "    \n",
    "    def __init__(self):\n",
    "        super(Warrior, self).__init__()\n",
    "        self.strength = 15\n",
    "        self.intelligence = 5"
   ]
  },
  {
   "cell_type": "code",
   "execution_count": 20,
   "id": "eeafb03e",
   "metadata": {},
   "outputs": [],
   "source": [
    "class Wizard(Character):\n",
    "    \n",
    "    def __init__(self):\n",
    "        super(Wizard, self).__init__()\n",
    "        self.strength = 5\n",
    "        self.intelligence = 15"
   ]
  },
  {
   "cell_type": "code",
   "execution_count": 21,
   "id": "7bf1c05c",
   "metadata": {},
   "outputs": [],
   "source": [
    "a = Warrior()\n",
    "b = Wizard()"
   ]
  },
  {
   "cell_type": "code",
   "execution_count": 22,
   "id": "6b47d508",
   "metadata": {},
   "outputs": [
    {
     "data": {
      "text/plain": [
       "(1000, 1000)"
      ]
     },
     "execution_count": 22,
     "metadata": {},
     "output_type": "execute_result"
    }
   ],
   "source": [
    "a.life, b.life"
   ]
  },
  {
   "cell_type": "code",
   "execution_count": 24,
   "id": "2ac90fed",
   "metadata": {},
   "outputs": [
    {
     "data": {
      "text/plain": [
       "(15, 5)"
      ]
     },
     "execution_count": 24,
     "metadata": {},
     "output_type": "execute_result"
    }
   ],
   "source": [
    "a.strength, b.strength"
   ]
  },
  {
   "cell_type": "code",
   "execution_count": 25,
   "id": "5c79ee87",
   "metadata": {},
   "outputs": [
    {
     "data": {
      "text/plain": [
       "(5, 15)"
      ]
     },
     "execution_count": 25,
     "metadata": {},
     "output_type": "execute_result"
    }
   ],
   "source": [
    "a.intelligence, b.intelligence"
   ]
  },
  {
   "cell_type": "code",
   "execution_count": 26,
   "id": "58b7015d",
   "metadata": {},
   "outputs": [],
   "source": [
    "# 메서드 오버라이딩\n",
    "\n",
    "class Character(object):\n",
    "\n",
    "    def __init__(self):\n",
    "        self.life = 1000\n",
    "        self.strength = 10\n",
    "        self.intelligence = 10\n",
    "\n",
    "    def attacked(self):\n",
    "        self.life -= 10\n",
    "        print(\"공격받음! 생명력 =\", self.life)\n",
    "\n",
    "    def attack(self):\n",
    "        print(\"공격!\")"
   ]
  },
  {
   "cell_type": "code",
   "execution_count": 27,
   "id": "e0d0965b",
   "metadata": {},
   "outputs": [],
   "source": [
    "class Warrior(Character):\n",
    "\n",
    "    def __init__(self):\n",
    "        super(Warrior, self).__init__()\n",
    "        self.strength = 15\n",
    "        self.intelligence = 5\n",
    "\n",
    "    def attack(self):\n",
    "        print(\"육탄 공격!\")"
   ]
  },
  {
   "cell_type": "code",
   "execution_count": 28,
   "id": "ac1d2c4a",
   "metadata": {},
   "outputs": [],
   "source": [
    "class Wizard(Character):\n",
    "\n",
    "    def __init__(self):\n",
    "        super(Wizard, self).__init__()\n",
    "        self.strength = 5\n",
    "        self.intelligence = 15\n",
    "\n",
    "    def attack(self):\n",
    "        print(\"마법 공격!\")"
   ]
  },
  {
   "cell_type": "code",
   "execution_count": 29,
   "id": "a7fc928b",
   "metadata": {},
   "outputs": [],
   "source": [
    "a = Character()\n",
    "b = Warrior()\n",
    "c = Wizard()"
   ]
  },
  {
   "cell_type": "code",
   "execution_count": 30,
   "id": "d4e00460",
   "metadata": {},
   "outputs": [
    {
     "name": "stdout",
     "output_type": "stream",
     "text": [
      "공격!\n"
     ]
    }
   ],
   "source": [
    "a.attack()"
   ]
  },
  {
   "cell_type": "code",
   "execution_count": 31,
   "id": "78606256",
   "metadata": {},
   "outputs": [
    {
     "name": "stdout",
     "output_type": "stream",
     "text": [
      "육탄 공격!\n"
     ]
    }
   ],
   "source": [
    "b.attack()"
   ]
  },
  {
   "cell_type": "code",
   "execution_count": 32,
   "id": "b121ce48",
   "metadata": {},
   "outputs": [
    {
     "name": "stdout",
     "output_type": "stream",
     "text": [
      "마법 공격!\n"
     ]
    }
   ],
   "source": [
    "c.attack()"
   ]
  },
  {
   "cell_type": "code",
   "execution_count": 33,
   "id": "22075402",
   "metadata": {},
   "outputs": [],
   "source": [
    "class Character(object):\n",
    "\n",
    "    def __init__(self):\n",
    "        self.life = 1000\n",
    "        self.strength = 10\n",
    "        self.intelligence = 10\n",
    "\n",
    "    def attacked(self):\n",
    "        self.life -= 10\n",
    "        print(\"공격받음! 생명력 =\", self.life)\n",
    "\n",
    "    def attack(self):\n",
    "        print(\"공격!\")"
   ]
  },
  {
   "cell_type": "code",
   "execution_count": 34,
   "id": "1b153b31",
   "metadata": {},
   "outputs": [],
   "source": [
    "class Warrior(Character):\n",
    "\n",
    "    def __init__(self):\n",
    "        super(Warrior, self).__init__()\n",
    "        self.strength = 15\n",
    "        self.intelligence = 5\n",
    "\n",
    "    def attacked(self):\n",
    "        self.life -= 5\n",
    "        print(\"공격받음! 생명력 =\", self.life)"
   ]
  },
  {
   "cell_type": "code",
   "execution_count": 35,
   "id": "3fc5eb42",
   "metadata": {},
   "outputs": [
    {
     "name": "stdout",
     "output_type": "stream",
     "text": [
      "공격받음! 생명력 = 995\n"
     ]
    }
   ],
   "source": [
    "a = Warrior()\n",
    "a.attacked()"
   ]
  },
  {
   "cell_type": "code",
   "execution_count": 49,
   "id": "5cfb1fcd",
   "metadata": {},
   "outputs": [],
   "source": [
    "class Car(object):\n",
    "    \n",
    "    def __init__(self):\n",
    "        self.max_speed = 160\n",
    "        self.speed = 0\n",
    "        \n",
    "    def speed_up(self):\n",
    "        self.speed += 20\n",
    "        if (self.speed > self.max_speed):\n",
    "            self.speed = self.max_speed\n",
    "        print(f'speed: {self.speed}')\n",
    "    \n",
    "    def speed_down(self):\n",
    "        self.speed -= 20\n",
    "        if (self.speed < 0):\n",
    "            self.speed = 0\n",
    "        print(f'speed: {self.speed}')"
   ]
  },
  {
   "cell_type": "code",
   "execution_count": 61,
   "id": "b56c818c",
   "metadata": {},
   "outputs": [
    {
     "name": "stdout",
     "output_type": "stream",
     "text": [
      "speed: 20\n",
      "speed: 40\n",
      "speed: 60\n",
      "speed: 80\n",
      "speed: 100\n",
      "speed: 120\n",
      "speed: 140\n",
      "speed: 160\n",
      "speed: 160\n",
      "speed: 140\n",
      "speed: 120\n",
      "speed: 100\n",
      "speed: 80\n",
      "speed: 60\n",
      "speed: 40\n",
      "speed: 20\n",
      "speed: 0\n",
      "speed: 0\n"
     ]
    }
   ],
   "source": [
    "a = Car()\n",
    "a.speed_up()\n",
    "a.speed_up()\n",
    "a.speed_up()\n",
    "a.speed_up()\n",
    "a.speed_up()\n",
    "a.speed_up()\n",
    "a.speed_up()\n",
    "a.speed_up()\n",
    "a.speed_up()\n",
    "a.speed_down()\n",
    "a.speed_down()\n",
    "a.speed_down()\n",
    "a.speed_down()\n",
    "a.speed_down()\n",
    "a.speed_down()\n",
    "a.speed_down()\n",
    "a.speed_down()\n",
    "a.speed_down()"
   ]
  },
  {
   "cell_type": "code",
   "execution_count": 82,
   "id": "b181a42a",
   "metadata": {},
   "outputs": [],
   "source": [
    "class SportCar(Car):\n",
    "    \n",
    "    def __init__(self):\n",
    "        super(SportCar, self).__init__()\n",
    "        self.max_speed = 200\n",
    "    \n",
    "    def speed_up(self):\n",
    "        self.speed += 45\n",
    "        if (self.speed > self.max_speed):\n",
    "            self.speed = self.max_speed\n",
    "        print(f'speed: {self.speed}')\n",
    "    \n",
    "    def speed_down(self):\n",
    "        self.speed -= 45\n",
    "        if (self.speed < 0):\n",
    "            self.speed = 0\n",
    "        print(f'speed: {self.speed}')"
   ]
  },
  {
   "cell_type": "code",
   "execution_count": 85,
   "id": "29667161",
   "metadata": {},
   "outputs": [
    {
     "name": "stdout",
     "output_type": "stream",
     "text": [
      "speed: 45\n",
      "speed: 90\n",
      "speed: 135\n",
      "speed: 180\n",
      "speed: 200\n",
      "speed: 200\n",
      "speed: 155\n",
      "speed: 110\n",
      "speed: 65\n",
      "speed: 20\n",
      "speed: 0\n",
      "speed: 0\n"
     ]
    }
   ],
   "source": [
    "b = SportCar()\n",
    "b.speed_up()\n",
    "b.speed_up()\n",
    "b.speed_up()\n",
    "b.speed_up()\n",
    "b.speed_up()\n",
    "b.speed_up()\n",
    "b.speed_down()\n",
    "b.speed_down()\n",
    "b.speed_down()\n",
    "b.speed_down()\n",
    "b.speed_down()\n",
    "b.speed_down()\n"
   ]
  },
  {
   "cell_type": "code",
   "execution_count": 86,
   "id": "5414d571",
   "metadata": {},
   "outputs": [],
   "source": [
    "class Truck(Car):\n",
    "    \n",
    "    def __init__(self):\n",
    "        super(Truck, self).__init__()\n",
    "        self.max_speed = 100\n",
    "    \n",
    "    def speed_up(self):\n",
    "        self.speed += 15\n",
    "        if (self.speed > self.max_speed):\n",
    "            self.speed = self.max_speed\n",
    "        print(f'speed: {self.speed}')\n",
    "    \n",
    "    def speed_down(self):\n",
    "        self.speed -= 15\n",
    "        if (self.speed < 0):\n",
    "            self.speed = 0\n",
    "        print(f'speed: {self.speed}')"
   ]
  },
  {
   "cell_type": "code",
   "execution_count": 98,
   "id": "525a3cea",
   "metadata": {},
   "outputs": [
    {
     "name": "stdout",
     "output_type": "stream",
     "text": [
      "speed: 15\n",
      "speed: 30\n",
      "speed: 45\n",
      "speed: 60\n",
      "speed: 75\n",
      "speed: 90\n",
      "speed: 100\n"
     ]
    }
   ],
   "source": [
    "c = Truck()\n",
    "while True:\n",
    "    c.speed_up()\n",
    "    if c.speed == 100:\n",
    "        break"
   ]
  },
  {
   "cell_type": "code",
   "execution_count": 100,
   "id": "ab685680",
   "metadata": {},
   "outputs": [],
   "source": [
    "class Complex(object):\n",
    "\n",
    "    def __init__(self, realpart, imagpart):\n",
    "        self.r = realpart\n",
    "        self.i = imagpart"
   ]
  },
  {
   "cell_type": "code",
   "execution_count": 126,
   "id": "cdfb0efb",
   "metadata": {},
   "outputs": [],
   "source": [
    "class student(object):\n",
    "    \n",
    "    def __init__(self, num, name, math, english):\n",
    "        self.num = num\n",
    "        self.name = name\n",
    "        self.math = math\n",
    "        self.english = english\n",
    "    \n",
    "    def average(self):\n",
    "        print(\"average = \", (self.math + self.english) / 2 )\n",
    "    \n",
    "    def __repr__(self):\n",
    "        return \"Num = %s, Name = %s\" % (self.num, self.name)\n",
    "    \n",
    "    def __str__(self):\n",
    "        return \"%s\" % self.name\n",
    "    \n",
    "    def __getitem__(self, key):\n",
    "        if key == \"math\":\n",
    "            return self.math\n",
    "        if key == \"english\":\n",
    "            return self.english"
   ]
  },
  {
   "cell_type": "code",
   "execution_count": 127,
   "id": "01e96ff6",
   "metadata": {},
   "outputs": [
    {
     "name": "stdout",
     "output_type": "stream",
     "text": [
      "average =  95.0\n"
     ]
    }
   ],
   "source": [
    "a = student(20173437, \"김정우\", 90, 100)\n",
    "a.average()"
   ]
  },
  {
   "cell_type": "code",
   "execution_count": 128,
   "id": "fab76c64",
   "metadata": {},
   "outputs": [
    {
     "data": {
      "text/plain": [
       "Num = 20173437, Name = 김정우"
      ]
     },
     "execution_count": 128,
     "metadata": {},
     "output_type": "execute_result"
    }
   ],
   "source": [
    "a"
   ]
  },
  {
   "cell_type": "code",
   "execution_count": 122,
   "id": "19ccfc71",
   "metadata": {},
   "outputs": [
    {
     "data": {
      "text/plain": [
       "'김정우'"
      ]
     },
     "execution_count": 122,
     "metadata": {},
     "output_type": "execute_result"
    }
   ],
   "source": [
    "str(a)"
   ]
  },
  {
   "cell_type": "code",
   "execution_count": 130,
   "id": "e4ea5534",
   "metadata": {},
   "outputs": [
    {
     "data": {
      "text/plain": [
       "(90, 100)"
      ]
     },
     "execution_count": 130,
     "metadata": {},
     "output_type": "execute_result"
    }
   ],
   "source": [
    "a[\"math\"], a[\"english\"]"
   ]
  },
  {
   "cell_type": "code",
   "execution_count": null,
   "id": "485aec31",
   "metadata": {},
   "outputs": [],
   "source": []
  }
 ],
 "metadata": {
  "kernelspec": {
   "display_name": "Python 3 (ipykernel)",
   "language": "python",
   "name": "python3"
  },
  "language_info": {
   "codemirror_mode": {
    "name": "ipython",
    "version": 3
   },
   "file_extension": ".py",
   "mimetype": "text/x-python",
   "name": "python",
   "nbconvert_exporter": "python",
   "pygments_lexer": "ipython3",
   "version": "3.9.2"
  }
 },
 "nbformat": 4,
 "nbformat_minor": 5
}
