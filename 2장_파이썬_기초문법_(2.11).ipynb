{
 "cells": [
  {
   "cell_type": "markdown",
   "id": "fef56aa1",
   "metadata": {},
   "source": [
    "# 파이썬에서 딕셔너리 자료형 다루기"
   ]
  },
  {
   "cell_type": "code",
   "execution_count": 2,
   "id": "4bcc9c69",
   "metadata": {},
   "outputs": [
    {
     "data": {
      "text/plain": [
       "2"
      ]
     },
     "execution_count": 2,
     "metadata": {},
     "output_type": "execute_result"
    }
   ],
   "source": [
    "x = {\"a\": 10, \"b\": 20}\n",
    "len(x)"
   ]
  },
  {
   "cell_type": "code",
   "execution_count": 3,
   "id": "2448d9b7",
   "metadata": {},
   "outputs": [
    {
     "data": {
      "text/plain": [
       "{'a': 30, 'b': 20}"
      ]
     },
     "execution_count": 3,
     "metadata": {},
     "output_type": "execute_result"
    }
   ],
   "source": [
    "x[\"a\"] = 30\n",
    "x"
   ]
  },
  {
   "cell_type": "code",
   "execution_count": 4,
   "id": "6984fd28",
   "metadata": {},
   "outputs": [
    {
     "data": {
      "text/plain": [
       "{'a': 30, 'b': 20, 'c': 40}"
      ]
     },
     "execution_count": 4,
     "metadata": {},
     "output_type": "execute_result"
    }
   ],
   "source": [
    "x[\"c\"] = 40\n",
    "x"
   ]
  },
  {
   "cell_type": "code",
   "execution_count": 5,
   "id": "2264bad0",
   "metadata": {},
   "outputs": [
    {
     "data": {
      "text/plain": [
       "{'a': 30, 'c': 40}"
      ]
     },
     "execution_count": 5,
     "metadata": {},
     "output_type": "execute_result"
    }
   ],
   "source": [
    "del x[\"b\"]\n",
    "x"
   ]
  },
  {
   "cell_type": "code",
   "execution_count": 6,
   "id": "ca7cbba0",
   "metadata": {},
   "outputs": [
    {
     "data": {
      "text/plain": [
       "False"
      ]
     },
     "execution_count": 6,
     "metadata": {},
     "output_type": "execute_result"
    }
   ],
   "source": [
    "\"b\" in x"
   ]
  },
  {
   "cell_type": "code",
   "execution_count": 8,
   "id": "795cd17f",
   "metadata": {},
   "outputs": [
    {
     "name": "stdout",
     "output_type": "stream",
     "text": [
      "a 30\n",
      "c 40\n"
     ]
    }
   ],
   "source": [
    "for k, v in x.items():\n",
    "    print(k, v)"
   ]
  },
  {
   "cell_type": "code",
   "execution_count": 9,
   "id": "128e177b",
   "metadata": {},
   "outputs": [],
   "source": [
    "data = {\n",
    "    \"철수\": 98,\n",
    "    \"영희\": 80,\n",
    "    \"순이\": 100,\n",
    "    \"돌이\": 70,\n",
    "}"
   ]
  },
  {
   "cell_type": "code",
   "execution_count": 29,
   "id": "b9686e89",
   "metadata": {},
   "outputs": [
    {
     "name": "stdout",
     "output_type": "stream",
     "text": [
      "철수        98\n",
      "영희        80\n",
      "순이       100\n",
      "돌이        70\n",
      "================\n",
      "평균        87\n"
     ]
    }
   ],
   "source": [
    "a = int(sum(data.values())/len(data))\n",
    "for k, v in data.items():\n",
    "    print(\"%s%10d\" % (k, v))\n",
    "print(\"================\")\n",
    "print(\"평균%10d\" % (a))"
   ]
  },
  {
   "cell_type": "code",
   "execution_count": 28,
   "id": "85282194",
   "metadata": {},
   "outputs": [
    {
     "data": {
      "text/plain": [
       "87.0"
      ]
     },
     "execution_count": 28,
     "metadata": {},
     "output_type": "execute_result"
    }
   ],
   "source": [
    "a = sum(data.values())/len(data)\n",
    "a"
   ]
  },
  {
   "cell_type": "code",
   "execution_count": null,
   "id": "a21987ce",
   "metadata": {},
   "outputs": [],
   "source": []
  }
 ],
 "metadata": {
  "kernelspec": {
   "display_name": "Python 3 (ipykernel)",
   "language": "python",
   "name": "python3"
  },
  "language_info": {
   "codemirror_mode": {
    "name": "ipython",
    "version": 3
   },
   "file_extension": ".py",
   "mimetype": "text/x-python",
   "name": "python",
   "nbconvert_exporter": "python",
   "pygments_lexer": "ipython3",
   "version": "3.9.2"
  }
 },
 "nbformat": 4,
 "nbformat_minor": 5
}
