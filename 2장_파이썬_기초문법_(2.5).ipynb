{
 "cells": [
  {
   "cell_type": "markdown",
   "id": "1af98b01",
   "metadata": {},
   "source": [
    "# 파이썬 조건문 기초"
   ]
  },
  {
   "cell_type": "code",
   "execution_count": 1,
   "id": "510ea12d",
   "metadata": {},
   "outputs": [
    {
     "name": "stdout",
     "output_type": "stream",
     "text": [
      "짝수\n"
     ]
    }
   ],
   "source": [
    "a = 2\n",
    "\n",
    "if a % 2 == 0:\n",
    "    print(\"짝수\")\n",
    "else:\n",
    "    print(\"홀수\")"
   ]
  },
  {
   "cell_type": "code",
   "execution_count": 2,
   "id": "3fd20167",
   "metadata": {},
   "outputs": [
    {
     "name": "stdout",
     "output_type": "stream",
     "text": [
      "2자리 수의 짝수가 아니다.\n"
     ]
    }
   ],
   "source": [
    "b = 300\n",
    "\n",
    "if (b >= 10) & (b < 100) & (b % 2 == 0):\n",
    "    print(\"2자리 수의 짝수이다.\")\n",
    "else:\n",
    "    print(\"2자리 수의 짝수가 아니다.\")"
   ]
  },
  {
   "cell_type": "code",
   "execution_count": 3,
   "id": "62800fa0",
   "metadata": {},
   "outputs": [
    {
     "name": "stdout",
     "output_type": "stream",
     "text": [
      "A\n"
     ]
    }
   ],
   "source": [
    "c = 9\n",
    "\n",
    "if c >= 8:\n",
    "    print(\"A\")\n",
    "elif c >= 5:\n",
    "    print(\"B\")\n",
    "else:\n",
    "    print(\"C\")"
   ]
  },
  {
   "cell_type": "code",
   "execution_count": 5,
   "id": "c5098396",
   "metadata": {},
   "outputs": [
    {
     "name": "stdout",
     "output_type": "stream",
     "text": [
      "4\n"
     ]
    }
   ],
   "source": [
    "w = 2\n",
    "\n",
    "if w > 10:\n",
    "    print(\"1\")\n",
    "elif w > 7:\n",
    "    print(\"2\")\n",
    "elif 2 > 4:\n",
    "    print(\"3\")\n",
    "else:\n",
    "    print(\"4\")"
   ]
  },
  {
   "cell_type": "code",
   "execution_count": 9,
   "id": "4f9413a5",
   "metadata": {},
   "outputs": [
    {
     "name": "stdout",
     "output_type": "stream",
     "text": [
      "모두 1년 징역\n"
     ]
    }
   ],
   "source": [
    "XA = False\n",
    "XB = False\n",
    "\n",
    "if XA == True:\n",
    "    if XB == True:\n",
    "        print(\"모두 5년 징역\")\n",
    "    else:\n",
    "        print(\"XB 10년 징역\")\n",
    "else: \n",
    "    if XB == True:\n",
    "        print(\"XA 10년 징역\")\n",
    "    else:\n",
    "        print(\"모두 1년 징역\")"
   ]
  },
  {
   "cell_type": "code",
   "execution_count": null,
   "id": "4a122ac1",
   "metadata": {},
   "outputs": [],
   "source": []
  }
 ],
 "metadata": {
  "kernelspec": {
   "display_name": "Python 3 (ipykernel)",
   "language": "python",
   "name": "python3"
  },
  "language_info": {
   "codemirror_mode": {
    "name": "ipython",
    "version": 3
   },
   "file_extension": ".py",
   "mimetype": "text/x-python",
   "name": "python",
   "nbconvert_exporter": "python",
   "pygments_lexer": "ipython3",
   "version": "3.9.2"
  }
 },
 "nbformat": 4,
 "nbformat_minor": 5
}
