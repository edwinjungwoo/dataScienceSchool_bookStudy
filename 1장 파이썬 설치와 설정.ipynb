{
 "cells": [
  {
   "cell_type": "code",
   "execution_count": 1,
   "id": "6809e8e8",
   "metadata": {},
   "outputs": [],
   "source": [
    "x = 1"
   ]
  },
  {
   "cell_type": "code",
   "execution_count": 2,
   "id": "cb31c665",
   "metadata": {},
   "outputs": [
    {
     "data": {
      "text/plain": [
       "1"
      ]
     },
     "execution_count": 2,
     "metadata": {},
     "output_type": "execute_result"
    }
   ],
   "source": [
    "x"
   ]
  },
  {
   "cell_type": "code",
   "execution_count": 3,
   "id": "82cceef6",
   "metadata": {},
   "outputs": [],
   "source": [
    "y = 2"
   ]
  },
  {
   "cell_type": "code",
   "execution_count": 4,
   "id": "433dae95",
   "metadata": {},
   "outputs": [
    {
     "data": {
      "text/plain": [
       "2"
      ]
     },
     "execution_count": 4,
     "metadata": {},
     "output_type": "execute_result"
    }
   ],
   "source": [
    "y"
   ]
  },
  {
   "cell_type": "code",
   "execution_count": 5,
   "id": "6eaddc73",
   "metadata": {},
   "outputs": [],
   "source": [
    "z = x + y"
   ]
  },
  {
   "cell_type": "code",
   "execution_count": 6,
   "id": "9487ccda",
   "metadata": {},
   "outputs": [
    {
     "data": {
      "text/plain": [
       "3"
      ]
     },
     "execution_count": 6,
     "metadata": {},
     "output_type": "execute_result"
    }
   ],
   "source": [
    "z"
   ]
  },
  {
   "cell_type": "code",
   "execution_count": 7,
   "id": "206f5105",
   "metadata": {},
   "outputs": [],
   "source": [
    "# 코드 완성 후 전체 코드 한 번에 실행하고 싶으면 코드를 .py 확장자 파일로 만들기 (스크립트화)"
   ]
  },
  {
   "cell_type": "markdown",
   "id": "8dd944d1",
   "metadata": {},
   "source": [
    "# 데이터 분석용 파이썬 패키지"
   ]
  },
  {
   "cell_type": "markdown",
   "id": "45c795f4",
   "metadata": {},
   "source": [
    "* NumPy\n",
    "수치 해석, 특히 선형 대수 계산 기능 제공. 다차원 배열 클래스와 벡터화 연산을 지원하고 수학 연산 위해 가장 기본적이고 중요한 패키지.\n",
    "* SciPy\n",
    "고급 수학 함수, 수치적 미적분, 미분 방정식 계산, 최적화, 신호 처리 등에 사용하는 다양한 과학 기술 계산 기능 제공.\n",
    "* SymPy\n",
    "숫자를 더하거나 빼는 수치 연산이 아니라 인수 분해, 미분, 적분 등 심볼릭 연산 기능 제공.\n",
    "* Pandas\n",
    "테이블 형태의 데이터를 다루는 데이터프레임 자료형을 제공. 자료 탐색이나 정리에 아주 유용해 데이터 분석에 빠질 수 없는 필수 패키지.\n",
    "* Matplotlib\n",
    "각종 그래프나 차트 등을 그리는 시각화 기능을 제공. \n",
    "* Seaborn\n",
    "matplotlib 패키지에서 지원하지 않는 고급 통계 차트를 그리는 통계용 시각화 기능 제공"
   ]
  },
  {
   "cell_type": "code",
   "execution_count": null,
   "id": "bd2d8015",
   "metadata": {},
   "outputs": [],
   "source": []
  }
 ],
 "metadata": {
  "kernelspec": {
   "display_name": "Python 3 (ipykernel)",
   "language": "python",
   "name": "python3"
  },
  "language_info": {
   "codemirror_mode": {
    "name": "ipython",
    "version": 3
   },
   "file_extension": ".py",
   "mimetype": "text/x-python",
   "name": "python",
   "nbconvert_exporter": "python",
   "pygments_lexer": "ipython3",
   "version": "3.9.2"
  }
 },
 "nbformat": 4,
 "nbformat_minor": 5
}
