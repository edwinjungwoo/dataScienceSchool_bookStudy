{
 "cells": [
  {
   "cell_type": "markdown",
   "id": "6b7d348c",
   "metadata": {},
   "source": [
    "# 여러 개의 자료를 한 변수에 담기"
   ]
  },
  {
   "cell_type": "code",
   "execution_count": 2,
   "id": "2605539b",
   "metadata": {},
   "outputs": [],
   "source": [
    "x = [88, 90, 100]"
   ]
  },
  {
   "cell_type": "code",
   "execution_count": 3,
   "id": "4bc55074",
   "metadata": {},
   "outputs": [
    {
     "data": {
      "text/plain": [
       "[88, 90, 100]"
      ]
     },
     "execution_count": 3,
     "metadata": {},
     "output_type": "execute_result"
    }
   ],
   "source": [
    "x"
   ]
  },
  {
   "cell_type": "code",
   "execution_count": 5,
   "id": "9946c909",
   "metadata": {},
   "outputs": [
    {
     "data": {
      "text/plain": [
       "91.0"
      ]
     },
     "execution_count": 5,
     "metadata": {},
     "output_type": "execute_result"
    }
   ],
   "source": [
    "score = [99,88,93,100,75]\n",
    "sum(score)/len(score)"
   ]
  },
  {
   "cell_type": "code",
   "execution_count": 6,
   "id": "cc011e8e",
   "metadata": {},
   "outputs": [],
   "source": [
    "b = {\"math\": 88, \"english\": 90, \"history\": 100}"
   ]
  },
  {
   "cell_type": "code",
   "execution_count": 8,
   "id": "32c07409",
   "metadata": {},
   "outputs": [
    {
     "data": {
      "text/plain": [
       "100"
      ]
     },
     "execution_count": 8,
     "metadata": {},
     "output_type": "execute_result"
    }
   ],
   "source": [
    "b[\"history\"]"
   ]
  },
  {
   "cell_type": "code",
   "execution_count": 13,
   "id": "48a70992",
   "metadata": {},
   "outputs": [
    {
     "data": {
      "text/plain": [
       "30.166666666666668"
      ]
     },
     "execution_count": 13,
     "metadata": {},
     "output_type": "execute_result"
    }
   ],
   "source": [
    "days = {\"01\": 31, \"02\": 28, \"03\": 31, \"04\": 30, \"05\": 31, \"06\": 30, \"07\": 31, \"08\": 31, \"09\": 30, \"10\": 31, \"11\": 30, \"12\": 31}\n",
    "(days[\"02\"] + days[\"04\"] + days[\"06\"] + days[\"08\"] + days[\"10\"] + days[\"12\"])/6"
   ]
  },
  {
   "cell_type": "code",
   "execution_count": 14,
   "id": "2dd5a065",
   "metadata": {},
   "outputs": [
    {
     "data": {
      "text/plain": [
       "1"
      ]
     },
     "execution_count": 14,
     "metadata": {},
     "output_type": "execute_result"
    }
   ],
   "source": [
    "d = [1, 3.14, \"pi\"]\n",
    "d[0]"
   ]
  },
  {
   "cell_type": "code",
   "execution_count": 15,
   "id": "0eb5d789",
   "metadata": {},
   "outputs": [
    {
     "data": {
      "text/plain": [
       "[2, 20]"
      ]
     },
     "execution_count": 15,
     "metadata": {},
     "output_type": "execute_result"
    }
   ],
   "source": [
    "e = [[1, 10], [2, 20]]\n",
    "e[1]"
   ]
  },
  {
   "cell_type": "code",
   "execution_count": 16,
   "id": "4a626b39",
   "metadata": {},
   "outputs": [
    {
     "data": {
      "text/plain": [
       "{0: 0, 1: 10}"
      ]
     },
     "execution_count": 16,
     "metadata": {},
     "output_type": "execute_result"
    }
   ],
   "source": [
    "f = [{0: 0, 1: 10}, {0: 1, 1: 2}]\n",
    "f[0]"
   ]
  },
  {
   "cell_type": "code",
   "execution_count": 17,
   "id": "2b038e97",
   "metadata": {},
   "outputs": [
    {
     "data": {
      "text/plain": [
       "{0: 1, 1: 2}"
      ]
     },
     "execution_count": 17,
     "metadata": {},
     "output_type": "execute_result"
    }
   ],
   "source": [
    "g = {\"a\": [1, 2, 3], \"b\": {0: 1, 1: 2}}\n",
    "g[\"b\"]"
   ]
  },
  {
   "cell_type": "code",
   "execution_count": null,
   "id": "1bcc989c",
   "metadata": {},
   "outputs": [],
   "source": []
  }
 ],
 "metadata": {
  "kernelspec": {
   "display_name": "Python 3 (ipykernel)",
   "language": "python",
   "name": "python3"
  },
  "language_info": {
   "codemirror_mode": {
    "name": "ipython",
    "version": 3
   },
   "file_extension": ".py",
   "mimetype": "text/x-python",
   "name": "python",
   "nbconvert_exporter": "python",
   "pygments_lexer": "ipython3",
   "version": "3.9.2"
  }
 },
 "nbformat": 4,
 "nbformat_minor": 5
}
