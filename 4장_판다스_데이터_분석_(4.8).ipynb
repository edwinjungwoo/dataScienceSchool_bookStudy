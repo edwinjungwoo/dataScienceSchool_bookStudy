{
 "cells": [
  {
   "cell_type": "markdown",
   "id": "bcbae619",
   "metadata": {},
   "source": [
    "# 시계열 자료 다루기"
   ]
  },
  {
   "cell_type": "code",
   "execution_count": 2,
   "id": "981616b9",
   "metadata": {},
   "outputs": [
    {
     "data": {
      "text/plain": [
       "DatetimeIndex(['2022-01-01', '2022-01-04', '2022-01-05', '2022-01-06'], dtype='datetime64[ns]', freq=None)"
      ]
     },
     "execution_count": 2,
     "metadata": {},
     "output_type": "execute_result"
    }
   ],
   "source": [
    "import numpy as np\n",
    "import pandas as pd\n",
    "\n",
    "date_str = [\"2022, 1, 1\", \"2022, 1, 4\", \"2022, 1, 5\", \"2022, 1, 6\"]\n",
    "idx = pd.to_datetime(date_str)\n",
    "idx"
   ]
  },
  {
   "cell_type": "code",
   "execution_count": 7,
   "id": "bca6c3ea",
   "metadata": {},
   "outputs": [
    {
     "data": {
      "text/html": [
       "<div>\n",
       "<style scoped>\n",
       "    .dataframe tbody tr th:only-of-type {\n",
       "        vertical-align: middle;\n",
       "    }\n",
       "\n",
       "    .dataframe tbody tr th {\n",
       "        vertical-align: top;\n",
       "    }\n",
       "\n",
       "    .dataframe thead th {\n",
       "        text-align: right;\n",
       "    }\n",
       "</style>\n",
       "<table border=\"1\" class=\"dataframe\">\n",
       "  <thead>\n",
       "    <tr style=\"text-align: right;\">\n",
       "      <th></th>\n",
       "      <th>0</th>\n",
       "    </tr>\n",
       "  </thead>\n",
       "  <tbody>\n",
       "    <tr>\n",
       "      <th>2022-01-01</th>\n",
       "      <td>1.764052</td>\n",
       "    </tr>\n",
       "    <tr>\n",
       "      <th>2022-01-04</th>\n",
       "      <td>0.400157</td>\n",
       "    </tr>\n",
       "    <tr>\n",
       "      <th>2022-01-05</th>\n",
       "      <td>0.978738</td>\n",
       "    </tr>\n",
       "    <tr>\n",
       "      <th>2022-01-06</th>\n",
       "      <td>2.240893</td>\n",
       "    </tr>\n",
       "  </tbody>\n",
       "</table>\n",
       "</div>"
      ],
      "text/plain": [
       "                   0\n",
       "2022-01-01  1.764052\n",
       "2022-01-04  0.400157\n",
       "2022-01-05  0.978738\n",
       "2022-01-06  2.240893"
      ]
     },
     "execution_count": 7,
     "metadata": {},
     "output_type": "execute_result"
    }
   ],
   "source": [
    "np.random.seed(0)\n",
    "s = pd.Series(np.random.randn(4), index = idx)\n",
    "pd.DataFrame(s)"
   ]
  },
  {
   "cell_type": "code",
   "execution_count": 8,
   "id": "87fb15ba",
   "metadata": {},
   "outputs": [
    {
     "data": {
      "text/plain": [
       "pandas.core.indexes.datetimes.DatetimeIndex"
      ]
     },
     "execution_count": 8,
     "metadata": {},
     "output_type": "execute_result"
    }
   ],
   "source": [
    "type(idx)"
   ]
  },
  {
   "cell_type": "code",
   "execution_count": 9,
   "id": "33c84fdd",
   "metadata": {},
   "outputs": [
    {
     "data": {
      "text/plain": [
       "DatetimeIndex(['2022-04-01', '2022-04-02', '2022-04-03', '2022-04-04',\n",
       "               '2022-04-05', '2022-04-06', '2022-04-07', '2022-04-08',\n",
       "               '2022-04-09', '2022-04-10', '2022-04-11'],\n",
       "              dtype='datetime64[ns]', freq='D')"
      ]
     },
     "execution_count": 9,
     "metadata": {},
     "output_type": "execute_result"
    }
   ],
   "source": [
    "pd.date_range(\"2022-4-1\", \"2022-4-11\")"
   ]
  },
  {
   "cell_type": "code",
   "execution_count": 10,
   "id": "9136c96d",
   "metadata": {},
   "outputs": [
    {
     "data": {
      "text/plain": [
       "DatetimeIndex(['2022-04-02', '2022-04-03', '2022-04-04', '2022-04-05',\n",
       "               '2022-04-06', '2022-04-07', '2022-04-08', '2022-04-09',\n",
       "               '2022-04-10', '2022-04-11', '2022-04-12', '2022-04-13',\n",
       "               '2022-04-14', '2022-04-15', '2022-04-16', '2022-04-17',\n",
       "               '2022-04-18', '2022-04-19', '2022-04-20', '2022-04-21',\n",
       "               '2022-04-22', '2022-04-23', '2022-04-24', '2022-04-25',\n",
       "               '2022-04-26', '2022-04-27', '2022-04-28', '2022-04-29',\n",
       "               '2022-04-30', '2022-05-01'],\n",
       "              dtype='datetime64[ns]', freq='D')"
      ]
     },
     "execution_count": 10,
     "metadata": {},
     "output_type": "execute_result"
    }
   ],
   "source": [
    "pd.date_range(start = \"2022-4-2\", periods = 30) # 날짜"
   ]
  },
  {
   "cell_type": "code",
   "execution_count": 11,
   "id": "5aed7583",
   "metadata": {},
   "outputs": [
    {
     "data": {
      "text/plain": [
       "DatetimeIndex(['2018-04-02', '2018-04-03', '2018-04-04', '2018-04-05',\n",
       "               '2018-04-06', '2018-04-09', '2018-04-10', '2018-04-11',\n",
       "               '2018-04-12', '2018-04-13', '2018-04-16', '2018-04-17',\n",
       "               '2018-04-18', '2018-04-19', '2018-04-20', '2018-04-23',\n",
       "               '2018-04-24', '2018-04-25', '2018-04-26', '2018-04-27',\n",
       "               '2018-04-30'],\n",
       "              dtype='datetime64[ns]', freq='B')"
      ]
     },
     "execution_count": 11,
     "metadata": {},
     "output_type": "execute_result"
    }
   ],
   "source": [
    "pd.date_range(\"2018-4-1\", \"2018-4-30\", freq=\"B\")"
   ]
  },
  {
   "cell_type": "code",
   "execution_count": 12,
   "id": "36547dc3",
   "metadata": {},
   "outputs": [
    {
     "data": {
      "text/plain": [
       "DatetimeIndex(['2018-01-07', '2018-01-14', '2018-01-21', '2018-01-28',\n",
       "               '2018-02-04', '2018-02-11', '2018-02-18', '2018-02-25',\n",
       "               '2018-03-04', '2018-03-11', '2018-03-18', '2018-03-25',\n",
       "               '2018-04-01', '2018-04-08', '2018-04-15', '2018-04-22',\n",
       "               '2018-04-29', '2018-05-06', '2018-05-13', '2018-05-20',\n",
       "               '2018-05-27', '2018-06-03', '2018-06-10', '2018-06-17',\n",
       "               '2018-06-24', '2018-07-01', '2018-07-08', '2018-07-15',\n",
       "               '2018-07-22', '2018-07-29', '2018-08-05', '2018-08-12',\n",
       "               '2018-08-19', '2018-08-26', '2018-09-02', '2018-09-09',\n",
       "               '2018-09-16', '2018-09-23', '2018-09-30', '2018-10-07',\n",
       "               '2018-10-14', '2018-10-21', '2018-10-28', '2018-11-04',\n",
       "               '2018-11-11', '2018-11-18', '2018-11-25', '2018-12-02',\n",
       "               '2018-12-09', '2018-12-16', '2018-12-23', '2018-12-30'],\n",
       "              dtype='datetime64[ns]', freq='W-SUN')"
      ]
     },
     "execution_count": 12,
     "metadata": {},
     "output_type": "execute_result"
    }
   ],
   "source": [
    "pd.date_range(\"2018-1-1\", \"2018-12-31\", freq=\"W\")"
   ]
  },
  {
   "cell_type": "code",
   "execution_count": 13,
   "id": "fc37dd7d",
   "metadata": {},
   "outputs": [
    {
     "data": {
      "text/plain": [
       "DatetimeIndex(['2022-01-03', '2022-01-10', '2022-01-17', '2022-01-24',\n",
       "               '2022-01-31', '2022-02-07', '2022-02-14', '2022-02-21',\n",
       "               '2022-02-28', '2022-03-07', '2022-03-14', '2022-03-21',\n",
       "               '2022-03-28', '2022-04-04', '2022-04-11', '2022-04-18',\n",
       "               '2022-04-25', '2022-05-02', '2022-05-09', '2022-05-16',\n",
       "               '2022-05-23', '2022-05-30', '2022-06-06', '2022-06-13',\n",
       "               '2022-06-20', '2022-06-27', '2022-07-04', '2022-07-11',\n",
       "               '2022-07-18', '2022-07-25', '2022-08-01', '2022-08-08',\n",
       "               '2022-08-15', '2022-08-22', '2022-08-29', '2022-09-05',\n",
       "               '2022-09-12', '2022-09-19', '2022-09-26', '2022-10-03',\n",
       "               '2022-10-10', '2022-10-17', '2022-10-24', '2022-10-31',\n",
       "               '2022-11-07', '2022-11-14', '2022-11-21', '2022-11-28',\n",
       "               '2022-12-05', '2022-12-12', '2022-12-19', '2022-12-26'],\n",
       "              dtype='datetime64[ns]', freq='W-MON')"
      ]
     },
     "execution_count": 13,
     "metadata": {},
     "output_type": "execute_result"
    }
   ],
   "source": [
    "pd.date_range(\"2022-1-1\", \"2022-12-31\", freq=\"W-MON\")"
   ]
  },
  {
   "cell_type": "code",
   "execution_count": 14,
   "id": "16982a81",
   "metadata": {},
   "outputs": [
    {
     "data": {
      "text/plain": [
       "DatetimeIndex(['2018-03-31', '2018-06-30', '2018-09-30', '2018-12-31'], dtype='datetime64[ns]', freq='Q-DEC')"
      ]
     },
     "execution_count": 14,
     "metadata": {},
     "output_type": "execute_result"
    }
   ],
   "source": [
    "pd.date_range(\"2018-1-1\", \"2018-12-31\", freq=\"Q-DEC\")"
   ]
  },
  {
   "cell_type": "code",
   "execution_count": 16,
   "id": "d6abb060",
   "metadata": {},
   "outputs": [
    {
     "data": {
      "text/plain": [
       "2022-01-31    1.764052\n",
       "2022-02-28    0.400157\n",
       "2022-03-31    0.978738\n",
       "2022-04-30    2.240893\n",
       "Freq: M, dtype: float64"
      ]
     },
     "execution_count": 16,
     "metadata": {},
     "output_type": "execute_result"
    }
   ],
   "source": [
    "np.random.seed(0)\n",
    "ts = pd.Series(np.random.randn(4), index=pd.date_range(\n",
    "    \"2022-1-1\", periods=4, freq=\"M\"))\n",
    "ts"
   ]
  },
  {
   "cell_type": "code",
   "execution_count": 17,
   "id": "d317e80e",
   "metadata": {},
   "outputs": [
    {
     "data": {
      "text/plain": [
       "2022-01-31         NaN\n",
       "2022-02-28    1.764052\n",
       "2022-03-31    0.400157\n",
       "2022-04-30    0.978738\n",
       "Freq: M, dtype: float64"
      ]
     },
     "execution_count": 17,
     "metadata": {},
     "output_type": "execute_result"
    }
   ],
   "source": [
    "ts.shift(1)"
   ]
  },
  {
   "cell_type": "code",
   "execution_count": 18,
   "id": "48d7094d",
   "metadata": {},
   "outputs": [
    {
     "data": {
      "text/plain": [
       "2022-01-31    0.400157\n",
       "2022-02-28    0.978738\n",
       "2022-03-31    2.240893\n",
       "2022-04-30         NaN\n",
       "Freq: M, dtype: float64"
      ]
     },
     "execution_count": 18,
     "metadata": {},
     "output_type": "execute_result"
    }
   ],
   "source": [
    "ts.shift(-1)"
   ]
  },
  {
   "cell_type": "code",
   "execution_count": 19,
   "id": "88ae82c7",
   "metadata": {},
   "outputs": [
    {
     "data": {
      "text/plain": [
       "2022-02-28    1.764052\n",
       "2022-03-31    0.400157\n",
       "2022-04-30    0.978738\n",
       "2022-05-31    2.240893\n",
       "Freq: M, dtype: float64"
      ]
     },
     "execution_count": 19,
     "metadata": {},
     "output_type": "execute_result"
    }
   ],
   "source": [
    "ts.shift(1, freq=\"M\")"
   ]
  },
  {
   "cell_type": "code",
   "execution_count": 20,
   "id": "7942b65a",
   "metadata": {},
   "outputs": [
    {
     "data": {
      "text/plain": [
       "2022-01-31    1.764052\n",
       "2022-02-28    0.400157\n",
       "2022-03-31    0.978738\n",
       "2022-04-30    2.240893\n",
       "Freq: M, dtype: float64"
      ]
     },
     "execution_count": 20,
     "metadata": {},
     "output_type": "execute_result"
    }
   ],
   "source": [
    "ts"
   ]
  },
  {
   "cell_type": "markdown",
   "id": "bf3b759c",
   "metadata": {},
   "source": [
    "resample 연산을 쓰면 시간 간격을 재조정하는 리샘플링(resampling)이 가능하다. 이 때 시간 구간이 작아지면 데이터 양이 증가한다고 해서 업-샘플링(up-sampling)이라 하고 시간 구간이 커지면 데이터 양이 감소한다고 해서 다운-샘플링(down-sampling)이라 부른다."
   ]
  },
  {
   "cell_type": "code",
   "execution_count": 21,
   "id": "8c763241",
   "metadata": {},
   "outputs": [
    {
     "data": {
      "text/plain": [
       "2022-03-22    1.488252\n",
       "2022-03-23    1.895889\n",
       "2022-03-24    1.178780\n",
       "2022-03-25   -0.179925\n",
       "2022-03-26   -1.070753\n",
       "2022-03-27    1.054452\n",
       "2022-03-28   -0.403177\n",
       "2022-03-29    1.222445\n",
       "2022-03-30    0.208275\n",
       "2022-03-31    0.976639\n",
       "2022-04-01    0.356366\n",
       "2022-04-02    0.706573\n",
       "2022-04-03    0.010500\n",
       "2022-04-04    1.785870\n",
       "2022-04-05    0.126912\n",
       "2022-04-06    0.401989\n",
       "2022-04-07    1.883151\n",
       "2022-04-08   -1.347759\n",
       "2022-04-09   -1.270485\n",
       "2022-04-10    0.969397\n",
       "Freq: D, dtype: float64"
      ]
     },
     "execution_count": 21,
     "metadata": {},
     "output_type": "execute_result"
    }
   ],
   "source": [
    "ts = pd.Series(np.random.randn(100), index=pd.date_range(\n",
    "    \"2022-1-1\", periods=100, freq=\"D\"))\n",
    "ts.tail(20)"
   ]
  },
  {
   "cell_type": "code",
   "execution_count": 22,
   "id": "60b39d89",
   "metadata": {},
   "outputs": [
    {
     "data": {
      "text/plain": [
       "2022-01-02    0.445140\n",
       "2022-01-09    0.495067\n",
       "2022-01-16    0.235301\n",
       "2022-01-23   -0.130850\n",
       "2022-01-30    0.068497\n",
       "2022-02-06    0.071846\n",
       "2022-02-13   -0.371221\n",
       "2022-02-20   -0.579260\n",
       "2022-02-27   -0.175965\n",
       "2022-03-06   -0.691214\n",
       "2022-03-13    0.076018\n",
       "2022-03-20   -0.214814\n",
       "2022-03-27    0.404350\n",
       "2022-04-03    0.439660\n",
       "2022-04-10    0.364154\n",
       "Freq: W-SUN, dtype: float64"
      ]
     },
     "execution_count": 22,
     "metadata": {},
     "output_type": "execute_result"
    }
   ],
   "source": [
    "ts.resample('W').mean()    # 다운 샘플링"
   ]
  },
  {
   "cell_type": "code",
   "execution_count": 23,
   "id": "911806ae",
   "metadata": {},
   "outputs": [
    {
     "data": {
      "text/plain": [
       "2022-01-31    1.867558\n",
       "2022-02-28    0.156349\n",
       "2022-03-31   -1.726283\n",
       "2022-04-30    0.356366\n",
       "Freq: M, dtype: float64"
      ]
     },
     "execution_count": 23,
     "metadata": {},
     "output_type": "execute_result"
    }
   ],
   "source": [
    "ts.resample('M').first()"
   ]
  },
  {
   "cell_type": "code",
   "execution_count": 24,
   "id": "f230629a",
   "metadata": {},
   "outputs": [
    {
     "data": {
      "text/plain": [
       "2022-01-01 00:00:00   -1.173123\n",
       "2022-01-01 00:01:00    1.943621\n",
       "2022-01-01 00:02:00   -0.413619\n",
       "2022-01-01 00:03:00   -0.747455\n",
       "2022-01-01 00:04:00    1.922942\n",
       "2022-01-01 00:05:00    1.480515\n",
       "2022-01-01 00:06:00    1.867559\n",
       "2022-01-01 00:07:00    0.906045\n",
       "2022-01-01 00:08:00   -0.861226\n",
       "2022-01-01 00:09:00    1.910065\n",
       "2022-01-01 00:10:00   -0.268003\n",
       "2022-01-01 00:11:00    0.802456\n",
       "2022-01-01 00:12:00    0.947252\n",
       "2022-01-01 00:13:00   -0.155010\n",
       "2022-01-01 00:14:00    0.614079\n",
       "2022-01-01 00:15:00    0.922207\n",
       "2022-01-01 00:16:00    0.376426\n",
       "2022-01-01 00:17:00   -1.099401\n",
       "2022-01-01 00:18:00    0.298238\n",
       "2022-01-01 00:19:00    1.326386\n",
       "Freq: T, dtype: float64"
      ]
     },
     "execution_count": 24,
     "metadata": {},
     "output_type": "execute_result"
    }
   ],
   "source": [
    "ts = pd.Series(np.random.randn(60), index=pd.date_range(\n",
    "    \"2022-1-1\", periods=60, freq=\"T\"))\n",
    "ts.head(20)    "
   ]
  },
  {
   "cell_type": "code",
   "execution_count": 25,
   "id": "78cc547d",
   "metadata": {},
   "outputs": [
    {
     "data": {
      "text/plain": [
       "2022-01-01 00:00:00    6.835324\n",
       "2022-01-01 00:10:00    3.764630\n",
       "2022-01-01 00:20:00    0.776495\n",
       "2022-01-01 00:30:00   -0.538336\n",
       "2022-01-01 00:40:00    1.828234\n",
       "2022-01-01 00:50:00    0.167957\n",
       "Freq: 10T, dtype: float64"
      ]
     },
     "execution_count": 25,
     "metadata": {},
     "output_type": "execute_result"
    }
   ],
   "source": [
    "ts.resample('10T').sum()"
   ]
  },
  {
   "cell_type": "code",
   "execution_count": 26,
   "id": "2f812357",
   "metadata": {},
   "outputs": [
    {
     "data": {
      "text/plain": [
       "2021-12-31 23:50:00   -1.173123\n",
       "2022-01-01 00:00:00    7.740444\n",
       "2022-01-01 00:10:00    3.338065\n",
       "2022-01-01 00:20:00    0.835217\n",
       "2022-01-01 00:30:00    2.480654\n",
       "2022-01-01 00:40:00   -0.653363\n",
       "2022-01-01 00:50:00    0.266409\n",
       "Freq: 10T, dtype: float64"
      ]
     },
     "execution_count": 26,
     "metadata": {},
     "output_type": "execute_result"
    }
   ],
   "source": [
    "# 왼쪽이 아니라 오른쪽 한계값을 구간에 포함하려면 closed=\"right\" 인수를 사용한다. 이 때는 10의 배수가 되는 시각이 앞 구간에 포함된다.\n",
    "ts.resample('10T', closed=\"right\").sum()"
   ]
  },
  {
   "cell_type": "code",
   "execution_count": 27,
   "id": "f139f33f",
   "metadata": {},
   "outputs": [
    {
     "data": {
      "text/html": [
       "<div>\n",
       "<style scoped>\n",
       "    .dataframe tbody tr th:only-of-type {\n",
       "        vertical-align: middle;\n",
       "    }\n",
       "\n",
       "    .dataframe tbody tr th {\n",
       "        vertical-align: top;\n",
       "    }\n",
       "\n",
       "    .dataframe thead th {\n",
       "        text-align: right;\n",
       "    }\n",
       "</style>\n",
       "<table border=\"1\" class=\"dataframe\">\n",
       "  <thead>\n",
       "    <tr style=\"text-align: right;\">\n",
       "      <th></th>\n",
       "      <th>open</th>\n",
       "      <th>high</th>\n",
       "      <th>low</th>\n",
       "      <th>close</th>\n",
       "    </tr>\n",
       "  </thead>\n",
       "  <tbody>\n",
       "    <tr>\n",
       "      <th>2022-01-01 00:00:00</th>\n",
       "      <td>-1.173123</td>\n",
       "      <td>1.943621</td>\n",
       "      <td>-1.173123</td>\n",
       "      <td>1.922942</td>\n",
       "    </tr>\n",
       "    <tr>\n",
       "      <th>2022-01-01 00:05:00</th>\n",
       "      <td>1.480515</td>\n",
       "      <td>1.910065</td>\n",
       "      <td>-0.861226</td>\n",
       "      <td>1.910065</td>\n",
       "    </tr>\n",
       "    <tr>\n",
       "      <th>2022-01-01 00:10:00</th>\n",
       "      <td>-0.268003</td>\n",
       "      <td>0.947252</td>\n",
       "      <td>-0.268003</td>\n",
       "      <td>0.614079</td>\n",
       "    </tr>\n",
       "    <tr>\n",
       "      <th>2022-01-01 00:15:00</th>\n",
       "      <td>0.922207</td>\n",
       "      <td>1.326386</td>\n",
       "      <td>-1.099401</td>\n",
       "      <td>1.326386</td>\n",
       "    </tr>\n",
       "    <tr>\n",
       "      <th>2022-01-01 00:20:00</th>\n",
       "      <td>-0.694568</td>\n",
       "      <td>1.849264</td>\n",
       "      <td>-0.694568</td>\n",
       "      <td>0.672295</td>\n",
       "    </tr>\n",
       "    <tr>\n",
       "      <th>2022-01-01 00:25:00</th>\n",
       "      <td>0.407462</td>\n",
       "      <td>0.539249</td>\n",
       "      <td>-0.769916</td>\n",
       "      <td>0.031831</td>\n",
       "    </tr>\n",
       "    <tr>\n",
       "      <th>2022-01-01 00:30:00</th>\n",
       "      <td>-0.635846</td>\n",
       "      <td>0.676433</td>\n",
       "      <td>-0.635846</td>\n",
       "      <td>0.396007</td>\n",
       "    </tr>\n",
       "    <tr>\n",
       "      <th>2022-01-01 00:35:00</th>\n",
       "      <td>-1.093062</td>\n",
       "      <td>0.635031</td>\n",
       "      <td>-1.491258</td>\n",
       "      <td>0.635031</td>\n",
       "    </tr>\n",
       "    <tr>\n",
       "      <th>2022-01-01 00:40:00</th>\n",
       "      <td>2.383145</td>\n",
       "      <td>2.383145</td>\n",
       "      <td>-1.315907</td>\n",
       "      <td>-1.315907</td>\n",
       "    </tr>\n",
       "    <tr>\n",
       "      <th>2022-01-01 00:45:00</th>\n",
       "      <td>-0.461585</td>\n",
       "      <td>1.713343</td>\n",
       "      <td>-0.826439</td>\n",
       "      <td>-0.826439</td>\n",
       "    </tr>\n",
       "    <tr>\n",
       "      <th>2022-01-01 00:50:00</th>\n",
       "      <td>-0.098453</td>\n",
       "      <td>1.126636</td>\n",
       "      <td>-1.147469</td>\n",
       "      <td>-1.147469</td>\n",
       "    </tr>\n",
       "    <tr>\n",
       "      <th>2022-01-01 00:55:00</th>\n",
       "      <td>-0.437820</td>\n",
       "      <td>1.929532</td>\n",
       "      <td>-0.498032</td>\n",
       "      <td>0.087551</td>\n",
       "    </tr>\n",
       "  </tbody>\n",
       "</table>\n",
       "</div>"
      ],
      "text/plain": [
       "                         open      high       low     close\n",
       "2022-01-01 00:00:00 -1.173123  1.943621 -1.173123  1.922942\n",
       "2022-01-01 00:05:00  1.480515  1.910065 -0.861226  1.910065\n",
       "2022-01-01 00:10:00 -0.268003  0.947252 -0.268003  0.614079\n",
       "2022-01-01 00:15:00  0.922207  1.326386 -1.099401  1.326386\n",
       "2022-01-01 00:20:00 -0.694568  1.849264 -0.694568  0.672295\n",
       "2022-01-01 00:25:00  0.407462  0.539249 -0.769916  0.031831\n",
       "2022-01-01 00:30:00 -0.635846  0.676433 -0.635846  0.396007\n",
       "2022-01-01 00:35:00 -1.093062  0.635031 -1.491258  0.635031\n",
       "2022-01-01 00:40:00  2.383145  2.383145 -1.315907 -1.315907\n",
       "2022-01-01 00:45:00 -0.461585  1.713343 -0.826439 -0.826439\n",
       "2022-01-01 00:50:00 -0.098453  1.126636 -1.147469 -1.147469\n",
       "2022-01-01 00:55:00 -0.437820  1.929532 -0.498032  0.087551"
      ]
     },
     "execution_count": 27,
     "metadata": {},
     "output_type": "execute_result"
    }
   ],
   "source": [
    "ts.resample('5T').ohlc()"
   ]
  },
  {
   "cell_type": "code",
   "execution_count": 29,
   "id": "c86d64ce",
   "metadata": {},
   "outputs": [
    {
     "data": {
      "text/plain": [
       "2022-01-01 00:00:00   -1.173123\n",
       "2022-01-01 00:00:30   -1.173123\n",
       "2022-01-01 00:01:00    1.943621\n",
       "2022-01-01 00:01:30    1.943621\n",
       "2022-01-01 00:02:00   -0.413619\n",
       "2022-01-01 00:02:30   -0.413619\n",
       "2022-01-01 00:03:00   -0.747455\n",
       "2022-01-01 00:03:30   -0.747455\n",
       "2022-01-01 00:04:00    1.922942\n",
       "2022-01-01 00:04:30    1.922942\n",
       "2022-01-01 00:05:00    1.480515\n",
       "2022-01-01 00:05:30    1.480515\n",
       "2022-01-01 00:06:00    1.867559\n",
       "2022-01-01 00:06:30    1.867559\n",
       "2022-01-01 00:07:00    0.906045\n",
       "2022-01-01 00:07:30    0.906045\n",
       "2022-01-01 00:08:00   -0.861226\n",
       "2022-01-01 00:08:30   -0.861226\n",
       "2022-01-01 00:09:00    1.910065\n",
       "2022-01-01 00:09:30    1.910065\n",
       "Freq: 30S, dtype: float64"
      ]
     },
     "execution_count": 29,
     "metadata": {},
     "output_type": "execute_result"
    }
   ],
   "source": [
    "ts.resample('30s').ffill().head(20)    # 업샘플링"
   ]
  },
  {
   "cell_type": "code",
   "execution_count": 30,
   "id": "2c8a2536",
   "metadata": {},
   "outputs": [
    {
     "data": {
      "text/plain": [
       "2022-01-01 00:00:00   -1.173123\n",
       "2022-01-01 00:00:30    1.943621\n",
       "2022-01-01 00:01:00    1.943621\n",
       "2022-01-01 00:01:30   -0.413619\n",
       "2022-01-01 00:02:00   -0.413619\n",
       "2022-01-01 00:02:30   -0.747455\n",
       "2022-01-01 00:03:00   -0.747455\n",
       "2022-01-01 00:03:30    1.922942\n",
       "2022-01-01 00:04:00    1.922942\n",
       "2022-01-01 00:04:30    1.480515\n",
       "2022-01-01 00:05:00    1.480515\n",
       "2022-01-01 00:05:30    1.867559\n",
       "2022-01-01 00:06:00    1.867559\n",
       "2022-01-01 00:06:30    0.906045\n",
       "2022-01-01 00:07:00    0.906045\n",
       "2022-01-01 00:07:30   -0.861226\n",
       "2022-01-01 00:08:00   -0.861226\n",
       "2022-01-01 00:08:30    1.910065\n",
       "2022-01-01 00:09:00    1.910065\n",
       "2022-01-01 00:09:30   -0.268003\n",
       "Freq: 30S, dtype: float64"
      ]
     },
     "execution_count": 30,
     "metadata": {},
     "output_type": "execute_result"
    }
   ],
   "source": [
    "ts.resample('30s').bfill().head(20)"
   ]
  },
  {
   "cell_type": "code",
   "execution_count": 31,
   "id": "8a37382e",
   "metadata": {},
   "outputs": [
    {
     "data": {
      "text/plain": [
       "0    2022-04-01\n",
       "1    2022-04-02\n",
       "2    2022-04-03\n",
       "3    2022-04-04\n",
       "4    2022-04-05\n",
       "        ...    \n",
       "95   2022-07-05\n",
       "96   2022-07-06\n",
       "97   2022-07-07\n",
       "98   2022-07-08\n",
       "99   2022-07-09\n",
       "Length: 100, dtype: datetime64[ns]"
      ]
     },
     "execution_count": 31,
     "metadata": {},
     "output_type": "execute_result"
    }
   ],
   "source": [
    "s = pd.Series(pd.date_range(\"2022-4-1\", periods=100, freq=\"D\"))\n",
    "s"
   ]
  },
  {
   "cell_type": "code",
   "execution_count": 33,
   "id": "74d037dd",
   "metadata": {},
   "outputs": [
    {
     "data": {
      "text/plain": [
       "0     2022\n",
       "1     2022\n",
       "2     2022\n",
       "3     2022\n",
       "4     2022\n",
       "      ... \n",
       "95    2022\n",
       "96    2022\n",
       "97    2022\n",
       "98    2022\n",
       "99    2022\n",
       "Length: 100, dtype: int64"
      ]
     },
     "execution_count": 33,
     "metadata": {},
     "output_type": "execute_result"
    }
   ],
   "source": [
    "s.dt.year"
   ]
  },
  {
   "cell_type": "code",
   "execution_count": 34,
   "id": "9aac9e4e",
   "metadata": {},
   "outputs": [
    {
     "data": {
      "text/plain": [
       "0     4\n",
       "1     5\n",
       "2     6\n",
       "3     0\n",
       "4     1\n",
       "     ..\n",
       "95    1\n",
       "96    2\n",
       "97    3\n",
       "98    4\n",
       "99    5\n",
       "Length: 100, dtype: int64"
      ]
     },
     "execution_count": 34,
     "metadata": {},
     "output_type": "execute_result"
    }
   ],
   "source": [
    "s.dt.weekday"
   ]
  },
  {
   "cell_type": "code",
   "execution_count": 35,
   "id": "935b1781",
   "metadata": {},
   "outputs": [
    {
     "data": {
      "text/plain": [
       "0     2022년 04월 01일\n",
       "1     2022년 04월 02일\n",
       "2     2022년 04월 03일\n",
       "3     2022년 04월 04일\n",
       "4     2022년 04월 05일\n",
       "          ...      \n",
       "95    2022년 07월 05일\n",
       "96    2022년 07월 06일\n",
       "97    2022년 07월 07일\n",
       "98    2022년 07월 08일\n",
       "99    2022년 07월 09일\n",
       "Length: 100, dtype: object"
      ]
     },
     "execution_count": 35,
     "metadata": {},
     "output_type": "execute_result"
    }
   ],
   "source": [
    "s.dt.strftime(\"%Y년 %m월 %d일\")"
   ]
  },
  {
   "cell_type": "code",
   "execution_count": 36,
   "id": "9abf1049",
   "metadata": {},
   "outputs": [],
   "source": [
    "np.random.seed(0)\n",
    "df = pd.DataFrame({\n",
    "    \"date\": pd.date_range(\"2020-12-25\", periods=100, freq=\"D\"), \n",
    "    \"value\": np.random.randint(100, size=(100,))\n",
    "})"
   ]
  },
  {
   "cell_type": "code",
   "execution_count": 37,
   "id": "64453ff1",
   "metadata": {},
   "outputs": [
    {
     "data": {
      "text/html": [
       "<div>\n",
       "<style scoped>\n",
       "    .dataframe tbody tr th:only-of-type {\n",
       "        vertical-align: middle;\n",
       "    }\n",
       "\n",
       "    .dataframe tbody tr th {\n",
       "        vertical-align: top;\n",
       "    }\n",
       "\n",
       "    .dataframe thead th {\n",
       "        text-align: right;\n",
       "    }\n",
       "</style>\n",
       "<table border=\"1\" class=\"dataframe\">\n",
       "  <thead>\n",
       "    <tr style=\"text-align: right;\">\n",
       "      <th></th>\n",
       "      <th>date</th>\n",
       "      <th>value</th>\n",
       "    </tr>\n",
       "  </thead>\n",
       "  <tbody>\n",
       "    <tr>\n",
       "      <th>0</th>\n",
       "      <td>2020-12-25</td>\n",
       "      <td>44</td>\n",
       "    </tr>\n",
       "    <tr>\n",
       "      <th>1</th>\n",
       "      <td>2020-12-26</td>\n",
       "      <td>47</td>\n",
       "    </tr>\n",
       "    <tr>\n",
       "      <th>2</th>\n",
       "      <td>2020-12-27</td>\n",
       "      <td>64</td>\n",
       "    </tr>\n",
       "    <tr>\n",
       "      <th>3</th>\n",
       "      <td>2020-12-28</td>\n",
       "      <td>67</td>\n",
       "    </tr>\n",
       "    <tr>\n",
       "      <th>4</th>\n",
       "      <td>2020-12-29</td>\n",
       "      <td>67</td>\n",
       "    </tr>\n",
       "    <tr>\n",
       "      <th>...</th>\n",
       "      <td>...</td>\n",
       "      <td>...</td>\n",
       "    </tr>\n",
       "    <tr>\n",
       "      <th>95</th>\n",
       "      <td>2021-03-30</td>\n",
       "      <td>23</td>\n",
       "    </tr>\n",
       "    <tr>\n",
       "      <th>96</th>\n",
       "      <td>2021-03-31</td>\n",
       "      <td>79</td>\n",
       "    </tr>\n",
       "    <tr>\n",
       "      <th>97</th>\n",
       "      <td>2021-04-01</td>\n",
       "      <td>13</td>\n",
       "    </tr>\n",
       "    <tr>\n",
       "      <th>98</th>\n",
       "      <td>2021-04-02</td>\n",
       "      <td>85</td>\n",
       "    </tr>\n",
       "    <tr>\n",
       "      <th>99</th>\n",
       "      <td>2021-04-03</td>\n",
       "      <td>48</td>\n",
       "    </tr>\n",
       "  </tbody>\n",
       "</table>\n",
       "<p>100 rows × 2 columns</p>\n",
       "</div>"
      ],
      "text/plain": [
       "         date  value\n",
       "0  2020-12-25     44\n",
       "1  2020-12-26     47\n",
       "2  2020-12-27     64\n",
       "3  2020-12-28     67\n",
       "4  2020-12-29     67\n",
       "..        ...    ...\n",
       "95 2021-03-30     23\n",
       "96 2021-03-31     79\n",
       "97 2021-04-01     13\n",
       "98 2021-04-02     85\n",
       "99 2021-04-03     48\n",
       "\n",
       "[100 rows x 2 columns]"
      ]
     },
     "execution_count": 37,
     "metadata": {},
     "output_type": "execute_result"
    }
   ],
   "source": [
    "df"
   ]
  },
  {
   "cell_type": "code",
   "execution_count": 39,
   "id": "5e81b32c",
   "metadata": {},
   "outputs": [
    {
     "data": {
      "text/html": [
       "<div>\n",
       "<style scoped>\n",
       "    .dataframe tbody tr th:only-of-type {\n",
       "        vertical-align: middle;\n",
       "    }\n",
       "\n",
       "    .dataframe tbody tr th {\n",
       "        vertical-align: top;\n",
       "    }\n",
       "\n",
       "    .dataframe thead th {\n",
       "        text-align: right;\n",
       "    }\n",
       "</style>\n",
       "<table border=\"1\" class=\"dataframe\">\n",
       "  <thead>\n",
       "    <tr style=\"text-align: right;\">\n",
       "      <th></th>\n",
       "      <th>value</th>\n",
       "    </tr>\n",
       "    <tr>\n",
       "      <th>date</th>\n",
       "      <th></th>\n",
       "    </tr>\n",
       "  </thead>\n",
       "  <tbody>\n",
       "    <tr>\n",
       "      <th>1</th>\n",
       "      <td>1811</td>\n",
       "    </tr>\n",
       "    <tr>\n",
       "      <th>2</th>\n",
       "      <td>985</td>\n",
       "    </tr>\n",
       "    <tr>\n",
       "      <th>3</th>\n",
       "      <td>1500</td>\n",
       "    </tr>\n",
       "    <tr>\n",
       "      <th>4</th>\n",
       "      <td>146</td>\n",
       "    </tr>\n",
       "    <tr>\n",
       "      <th>12</th>\n",
       "      <td>381</td>\n",
       "    </tr>\n",
       "  </tbody>\n",
       "</table>\n",
       "</div>"
      ],
      "text/plain": [
       "      value\n",
       "date       \n",
       "1      1811\n",
       "2       985\n",
       "3      1500\n",
       "4       146\n",
       "12      381"
      ]
     },
     "execution_count": 39,
     "metadata": {},
     "output_type": "execute_result"
    }
   ],
   "source": [
    "df.groupby(df.date.dt.month).sum()"
   ]
  },
  {
   "cell_type": "code",
   "execution_count": null,
   "id": "6692c62b",
   "metadata": {},
   "outputs": [],
   "source": []
  }
 ],
 "metadata": {
  "kernelspec": {
   "display_name": "Python 3 (ipykernel)",
   "language": "python",
   "name": "python3"
  },
  "language_info": {
   "codemirror_mode": {
    "name": "ipython",
    "version": 3
   },
   "file_extension": ".py",
   "mimetype": "text/x-python",
   "name": "python",
   "nbconvert_exporter": "python",
   "pygments_lexer": "ipython3",
   "version": "3.9.7"
  }
 },
 "nbformat": 4,
 "nbformat_minor": 5
}
